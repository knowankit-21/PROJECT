{
 "cells": [
  {
   "cell_type": "markdown",
   "id": "91522931",
   "metadata": {},
   "source": []
  },
  {
   "cell_type": "code",
   "execution_count": 28,
   "id": "518dff04",
   "metadata": {},
   "outputs": [],
   "source": [
    "import pandas as pd\n",
    "import matplotlib.pyplot as plt"
   ]
  },
  {
   "cell_type": "code",
   "execution_count": 43,
   "id": "4015034e",
   "metadata": {},
   "outputs": [],
   "source": [
    "# Step 1: Create simple data\n",
    "data = {\n",
    "    \"Name\": [\"Ankit\", \"Tanu\", \"Santosh\", \"Anchala\"],\n",
    "    \"Maths\": [88, 89, 66, 85],\n",
    "    \"Physics\": [96, 97, 98, 95],\n",
    "    \"BCEM\": [78, 85, 25, 87],\n",
    "    \"BME\": [54, 85, 74, 96],\n",
    "    \"BCE\": [84, 87, 86, 69],\n",
    "}\n",
    "students_data = pd.DataFrame(data)"
   ]
  },
  {
   "cell_type": "code",
   "execution_count": 39,
   "id": "3736a6be",
   "metadata": {},
   "outputs": [],
   "source": [
    "# step 2: Calculate total and average marks\n",
    "students_data[\"Total\"] = students_data[[\"Maths\", \"Physics\", \"BCEM\", \"BME\", \"BCE\"]].sum(\n",
    "    axis=1\n",
    ")\n",
    "students_data[\"Average\"] = students_data[\"Total\"] / 5"
   ]
  },
  {
   "cell_type": "code",
   "execution_count": 40,
   "id": "4f24503f",
   "metadata": {},
   "outputs": [
    {
     "data": {
      "text/html": [
       "<div>\n",
       "<style scoped>\n",
       "    .dataframe tbody tr th:only-of-type {\n",
       "        vertical-align: middle;\n",
       "    }\n",
       "\n",
       "    .dataframe tbody tr th {\n",
       "        vertical-align: top;\n",
       "    }\n",
       "\n",
       "    .dataframe thead th {\n",
       "        text-align: right;\n",
       "    }\n",
       "</style>\n",
       "<table border=\"1\" class=\"dataframe\">\n",
       "  <thead>\n",
       "    <tr style=\"text-align: right;\">\n",
       "      <th></th>\n",
       "      <th>Name</th>\n",
       "      <th>Maths</th>\n",
       "      <th>Physics</th>\n",
       "      <th>BCEM</th>\n",
       "      <th>BME</th>\n",
       "      <th>BCE</th>\n",
       "      <th>Total</th>\n",
       "      <th>Average</th>\n",
       "    </tr>\n",
       "  </thead>\n",
       "  <tbody>\n",
       "    <tr>\n",
       "      <th>0</th>\n",
       "      <td>Ankit</td>\n",
       "      <td>88</td>\n",
       "      <td>96</td>\n",
       "      <td>78</td>\n",
       "      <td>54</td>\n",
       "      <td>84</td>\n",
       "      <td>400</td>\n",
       "      <td>80.0</td>\n",
       "    </tr>\n",
       "    <tr>\n",
       "      <th>1</th>\n",
       "      <td>Tanu</td>\n",
       "      <td>89</td>\n",
       "      <td>97</td>\n",
       "      <td>85</td>\n",
       "      <td>85</td>\n",
       "      <td>87</td>\n",
       "      <td>443</td>\n",
       "      <td>88.6</td>\n",
       "    </tr>\n",
       "    <tr>\n",
       "      <th>2</th>\n",
       "      <td>Santosh</td>\n",
       "      <td>66</td>\n",
       "      <td>98</td>\n",
       "      <td>25</td>\n",
       "      <td>74</td>\n",
       "      <td>86</td>\n",
       "      <td>349</td>\n",
       "      <td>69.8</td>\n",
       "    </tr>\n",
       "    <tr>\n",
       "      <th>3</th>\n",
       "      <td>Anchala</td>\n",
       "      <td>85</td>\n",
       "      <td>95</td>\n",
       "      <td>87</td>\n",
       "      <td>96</td>\n",
       "      <td>69</td>\n",
       "      <td>432</td>\n",
       "      <td>86.4</td>\n",
       "    </tr>\n",
       "  </tbody>\n",
       "</table>\n",
       "</div>"
      ],
      "text/plain": [
       "      Name  Maths  Physics  BCEM  BME  BCE  Total  Average\n",
       "0    Ankit     88       96    78   54   84    400     80.0\n",
       "1     Tanu     89       97    85   85   87    443     88.6\n",
       "2  Santosh     66       98    25   74   86    349     69.8\n",
       "3  Anchala     85       95    87   96   69    432     86.4"
      ]
     },
     "execution_count": 40,
     "metadata": {},
     "output_type": "execute_result"
    }
   ],
   "source": [
    "students_data"
   ]
  },
  {
   "cell_type": "code",
   "execution_count": 41,
   "id": "be77cc55",
   "metadata": {},
   "outputs": [
    {
     "name": "stdout",
     "output_type": "stream",
     "text": [
      "topper:Tanu with 443 marks\n"
     ]
    }
   ],
   "source": [
    "# step 3: find topper\n",
    "Topper = students_data.loc[students_data[\"Total\"].idxmax()]\n",
    "print(f\"topper:{Topper['Name']} with {Topper['Total']} marks\")"
   ]
  },
  {
   "cell_type": "code",
   "execution_count": 42,
   "id": "d3b0ccdb",
   "metadata": {},
   "outputs": [
    {
     "data": {
      "image/png": "[encoded data removed]",
      "text/plain": [
       "<Figure size 640x480 with 1 Axes>"
      ]
     },
     "metadata": {},
     "output_type": "display_data"
    }
   ],
   "source": [
    "# step 4: Plot marks comparison\n",
    "students_data.plot(x=\"Name\", y=[\"Maths\", \"Physics\", \"BCEM\", \"BME\", \"BCE\"], kind=\"bar\")\n",
    "plt.title(\"Subject-wise marks comparison\")\n",
    "plt.ylabel(\"marks\")\n",
    "plt.show()"
   ]
  },
  {
   "cell_type": "code",
   "execution_count": null,
   "id": "5bbdc771",
   "metadata": {},
   "outputs": [],
   "source": []
  }
 ],
 "metadata": {
  "kernelspec": {
   "display_name": "Python 3",
   "language": "python",
   "name": "python3"
  },
  "language_info": {
   "codemirror_mode": {
    "name": "ipython",
    "version": 3
   },
   "file_extension": ".py",
   "mimetype": "text/x-python",
   "name": "python",
   "nbconvert_exporter": "python",
   "pygments_lexer": "ipython3",
   "version": "3.10.11"
  }
 },
 "nbformat": 4,
 "nbformat_minor": 5
}
